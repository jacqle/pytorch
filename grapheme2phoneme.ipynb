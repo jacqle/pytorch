{
 "cells": [
  {
   "cell_type": "markdown",
   "metadata": {},
   "source": [
    "# G2P\n",
    "\n",
    "### Grapheme to phoneme conversion with the cmudict dataset\n",
    "\n",
    "Inspired by Ben Trevett's excellent [tutorial](https://github.com/bentrevett/pytorch-seq2seq/blob/master/1%20-%20Sequence%20to%20Sequence%20Learning%20with%20Neural%20Networks.ipynb) on seq2seq learning.\n"
   ]
  },
  {
   "cell_type": "code",
   "execution_count": 1,
   "metadata": {
    "colab": {
     "base_uri": "https://localhost:8080/"
    },
    "id": "91IXF8ivk-RG",
    "outputId": "9a065a68-c066-4670-a7bc-9c1337c86590"
   },
   "outputs": [
    {
     "name": "stdout",
     "output_type": "stream",
     "text": [
      "Requirement already satisfied: textdistance in /usr/local/lib/python3.6/dist-packages (4.2.0)\n"
     ]
    }
   ],
   "source": [
    "!pip install textdistance # to calculate phoneme error rate"
   ]
  },
  {
   "cell_type": "code",
   "execution_count": 2,
   "metadata": {
    "id": "an_jWBZQk-RP"
   },
   "outputs": [],
   "source": [
    "import torch\n",
    "import torch.nn as nn\n",
    "import torch.optim as optim\n",
    "\n",
    "from torch.utils.data import Dataset\n",
    "from torch.utils.data import DataLoader\n",
    "\n",
    "import re \n",
    "import random\n",
    "import math\n",
    "import time\n",
    "import textdistance\n",
    "import matplotlib.pyplot as plt"
   ]
  },
  {
   "cell_type": "markdown",
   "metadata": {
    "id": "BdUx6JAWk-RR"
   },
   "source": [
    "## 1. Preprocess the data + Custom dataloader and collate function"
   ]
  },
  {
   "cell_type": "markdown",
   "metadata": {
    "id": "MnNVkfOHk-RR"
   },
   "source": [
    "Set seed for determinic results."
   ]
  },
  {
   "cell_type": "code",
   "execution_count": 3,
   "metadata": {
    "id": "_UqSK8r_k-RS"
   },
   "outputs": [],
   "source": [
    "SEED = 42\n",
    "\n",
    "random.seed(SEED)\n",
    "torch.manual_seed(SEED)\n",
    "torch.cuda.manual_seed(SEED)\n",
    "torch.backends.cudnn.deterministic = True"
   ]
  },
  {
   "cell_type": "markdown",
   "metadata": {
    "id": "UU6DSylFk-RS"
   },
   "source": [
    "We create a custom Dataset class to pass our datasplits (see below) to pytorch's DataLoader."
   ]
  },
  {
   "cell_type": "code",
   "execution_count": 4,
   "metadata": {
    "id": "00nB6gAIk-RT"
   },
   "outputs": [],
   "source": [
    "class Subset(Dataset):\n",
    "    \"\"\"\n",
    "    A custom Subset class to pass to DataLoader.\n",
    "    \n",
    "    Args:\n",
    "        data (list): numericalized data pairs\n",
    "        source_field (Field): converts a source example back into a word\n",
    "        target_field (Field): converts a target example back into phonemes\n",
    "    \"\"\"\n",
    "    def __init__(self, data, source_field, target_field):\n",
    "        self.data = data\n",
    "        self.source_field = source_field\n",
    "        self.target_field = target_field\n",
    "        \n",
    "    def __len__(self):\n",
    "        return len(self.data)\n",
    "\n",
    "    def __getitem__(self, index):\n",
    "        return self.data[index]\n",
    "    \n",
    "    def to_string(self, index):\n",
    "        \"\"\"Converts an example pair back into string.\"\"\"\n",
    "        \n",
    "        source, target = self.data[index]\n",
    "        decoded_source = self.source_field.tensor_to_string(source, datatype='chars')\n",
    "        decoded_target = self.target_field.tensor_to_string(target, datatype='phonemes')\n",
    "        return decoded_source, decoded_target"
   ]
  },
  {
   "cell_type": "markdown",
   "metadata": {
    "id": "Tmd1jZ4-k-RT"
   },
   "source": [
    "This Field class handles source and target data to convert strings to tensors according to a vocabulary mapping (built from the training data only). "
   ]
  },
  {
   "cell_type": "code",
   "execution_count": 5,
   "metadata": {
    "id": "E37djnxZk-RT"
   },
   "outputs": [],
   "source": [
    "class Field:\n",
    "    \"\"\"\n",
    "    A Field class to create a vocabulary and numericalize data.\n",
    "    Args:\n",
    "        string2int (dict): mapping from string to indices\n",
    "        data (list): example strings (words or phonemes)\n",
    "    \"\"\"\n",
    "    def __init__(self, data):\n",
    "        self.string2int = {\"<PAD>\": 0, \"<SOS>\": 1, \"<EOS>\": 2, \"<UNK>\": 3}\n",
    "        self.data = data\n",
    "    \n",
    "    def __len__(self):\n",
    "        return len(self.string2int)\n",
    "    \n",
    "    def build_vocab(self, data):\n",
    "        idx = 4\n",
    "        for string in data:\n",
    "            for char in string:\n",
    "                if not char in self.string2int:\n",
    "                    self.string2int[char] = idx\n",
    "                    idx += 1               \n",
    "        self.int2string = {v: k for k, v in self.string2int.items()}\n",
    "        \n",
    "    def string_to_tensor(self, string):\n",
    "        \"\"\"Converts a string according to the vocabulary and adds special tokens.\"\"\"\n",
    "        \n",
    "        int_string = [self.string2int[\"<SOS>\"]]\n",
    "        int_string.extend([self.string2int[char] if char in self.string2int \n",
    "                             else self.string2int[\"<UNK>\"] for char in string])\n",
    "        int_string.append(self.string2int[\"<EOS>\"])\n",
    "        tensor = torch.LongTensor(int_string)\n",
    "        return tensor   \n",
    "    \n",
    "    def tensor_to_string(self, tensor, datatype):\n",
    "        \"\"\"Translates a tensor mapping back into text.\"\"\"\n",
    "        \n",
    "        if datatype == 'chars':\n",
    "            return \"\".join(self.int2string[int(i.item())] for i in tensor if not i in [0, 1, 2])\n",
    "        else:\n",
    "            return \" \".join(self.int2string[int(i.item())] for i in tensor if not i in [0, 1, 2])"
   ]
  },
  {
   "cell_type": "markdown",
   "metadata": {
    "id": "tlFUdXM9k-RU"
   },
   "source": [
    "The GraphemesDataset class:\n",
    " - loads the data, preprocesses it and shuffles it\n",
    " - partitions the numericalized data into a train/dev/test split (as our custom Subset class)"
   ]
  },
  {
   "cell_type": "code",
   "execution_count": 6,
   "metadata": {
    "id": "hfbVhC2kk-RV"
   },
   "outputs": [],
   "source": [
    "class GraphemesDataset:\n",
    "    \"\"\"\n",
    "    A class to load the data and create numericalized data splits.\n",
    "    Args:\n",
    "        dict_file (str): path to data file\n",
    "        split (list): proportions to split the data into train/dev/test\n",
    "    \"\"\"\n",
    "    def __init__(self, dict_file, split):\n",
    "        self.dict_file = dict_file\n",
    "        self.split = split\n",
    "        self.data = self._get_data(dict_file)\n",
    "        random.shuffle(self.data)        \n",
    "        self.source_field = Field([ex[0] for ex in self.data])\n",
    "        self.target_field = Field([ex[1] for ex in self.data])\n",
    "        self.train_data, self.valid_data, self.test_data = self._split_dataset()\n",
    "        self._build_vocab(self.train_data)\n",
    "                    \n",
    "    def _get_data(self, dict_file):\n",
    "        \"\"\"Retrieves source and target data for a file and preprocesses it.\"\"\"\n",
    "        \n",
    "        data_pairs = []\n",
    "        with open(dict_file, 'r') as f:\n",
    "            for line in f.readlines():\n",
    "                word = line.strip().split()[0] \n",
    "                if not re.search('(\\d)', word): # ignore repeated samples\n",
    "                    line = line.strip().split(' # ')[0] # remove content with #\n",
    "                    ex_source, ex_target = line.split(' ', 1) \n",
    "                    data_pairs.append((ex_source, ex_target.split()))\n",
    "        return data_pairs\n",
    "    \n",
    "    def _split_dataset(self):\n",
    "        \"\"\"Splits the data according to the defined proportions.\"\"\"\n",
    "        \n",
    "        train, valid, test = self.split\n",
    "        train_index = int(len(self.data) * train)\n",
    "        valid_index = train_index + int(len(self.data) * valid)\n",
    "        train_data = []\n",
    "        valid_data = []\n",
    "        test_data = []\n",
    "        for idx, (source_ex, target_ex) in enumerate(self.data):\n",
    "            if idx < train_index:\n",
    "                train_data.append((source_ex, target_ex))\n",
    "            elif train_index <= idx < valid_index:\n",
    "                valid_data.append((source_ex, target_ex))\n",
    "            else:\n",
    "                test_data.append((source_ex, target_ex))\n",
    "        return train_data, valid_data, test_data\n",
    "    \n",
    "    def _build_vocab(self, train_data):\n",
    "        \"\"\"Builds vocabulary mappings for source and target.\"\"\"\n",
    "        \n",
    "        source = [ex[0] for ex in train_data]\n",
    "        target = [ex[1] for ex in train_data]\n",
    "        self.source_field.build_vocab(source)\n",
    "        self.target_field.build_vocab(target)\n",
    "        \n",
    "    def _to_tensor(self, pair):\n",
    "        \"\"\"Converts a string to a tensor according to the vocabulary.\"\"\"\n",
    "        \n",
    "        source, target = pair\n",
    "        encoded_source = self.source_field.string_to_tensor(source)\n",
    "        encoded_target = self.target_field.string_to_tensor(target)\n",
    "        return encoded_source, encoded_target \n",
    "\n",
    "    def get_transformed_data_splits(self):\n",
    "        \"\"\"Gets numericalized Subsets from the data splits for DataLoader.\"\"\"\n",
    "        \n",
    "        train_data = Subset([self._to_tensor(ex) for ex in self.train_data], \n",
    "                               self.source_field, self.target_field)\n",
    "        valid_data = Subset([self._to_tensor(ex) for ex in self.valid_data],\n",
    "                               self.source_field, self.target_field)\n",
    "        test_data = Subset([self._to_tensor(ex) for ex in self.test_data],\n",
    "                              self.source_field, self.target_field)\n",
    "        return train_data, valid_data, test_data       "
   ]
  },
  {
   "cell_type": "markdown",
   "metadata": {
    "id": "pqynXCx_k-RW"
   },
   "source": [
    "We use a custom collate function for the Dataloader which pads sequences according to the longest sequence in a batch."
   ]
  },
  {
   "cell_type": "code",
   "execution_count": 7,
   "metadata": {
    "id": "Kvo-DyOIk-RW"
   },
   "outputs": [],
   "source": [
    "class PadCollate:\n",
    "    \"\"\"\n",
    "    A custom Collate class to pass as collate_fn to DataLoader.\n",
    "    \"\"\"\n",
    "    def __init__(self, dim=0):\n",
    "        self.dim = dim\n",
    "\n",
    "    def _pad_collate(self, batch):\n",
    "        # find longest sequence\n",
    "        max_len_source = max(map(lambda x: x[0].shape[self.dim], batch))\n",
    "        max_len_target = max(map(lambda x: x[1].shape[self.dim], batch))\n",
    "        max_len = max((max_len_source, max_len_target))\n",
    "        # pad according to max_len\n",
    "        source = [self.pad_tensor(source, pad=max_len) for source, target in batch] \n",
    "        target = [self.pad_tensor(target, pad=max_len) for source, target in batch]\n",
    "        # stack all\n",
    "        src = torch.stack(source, dim=1)\n",
    "        trg = torch.stack(target, dim=1)\n",
    "        return src, trg\n",
    "\n",
    "    def pad_tensor(self, vec, pad):\n",
    "        \"\"\"\n",
    "        Args:\n",
    "            vec - tensor to pad\n",
    "            pad - the size to pad to\n",
    "        Return:\n",
    "            a new tensor padded to 'pad' in dimension 'dim'\n",
    "        \"\"\"\n",
    "        pad_size = list(vec.shape)\n",
    "        pad_size[self.dim] = pad - vec.size(self.dim)\n",
    "        return torch.cat([vec, torch.zeros(*pad_size).long()], dim=self.dim)\n",
    "\n",
    "    def __call__(self, batch):\n",
    "        return self._pad_collate(batch)"
   ]
  },
  {
   "cell_type": "code",
   "execution_count": 8,
   "metadata": {
    "id": "jLUitOl1k-RX"
   },
   "outputs": [],
   "source": [
    "BATCH_SIZE = 64\n",
    "NUM_WORKERS = 2\n",
    "dict_file = \"cmudict.dict\"\n",
    "device = torch.device('cuda' if torch.cuda.is_available() else 'cpu')\n",
    "\n",
    "dataset = GraphemesDataset(dict_file=dict_file, split=[0.85, 0.05, 0.1])\n",
    "train_data, valid_data, test_data = dataset.get_transformed_data_splits()\n",
    "\n",
    "train_iterator = DataLoader(train_data, shuffle=True, num_workers=NUM_WORKERS, drop_last=True,  \n",
    "                            batch_size=BATCH_SIZE, collate_fn=PadCollate(), pin_memory=True)\n",
    "valid_iterator = DataLoader(valid_data, batch_size=BATCH_SIZE, collate_fn=PadCollate(), drop_last=True)\n",
    "test_iterator = DataLoader(test_data, batch_size=BATCH_SIZE, collate_fn=PadCollate(), drop_last=True)"
   ]
  },
  {
   "cell_type": "code",
   "execution_count": 9,
   "metadata": {
    "id": "TLLU1eo-k-RY"
   },
   "outputs": [],
   "source": [
    "source_vocab = dataset.source_field.int2string\n",
    "target_vocab = dataset.target_field.int2string"
   ]
  },
  {
   "cell_type": "code",
   "execution_count": 10,
   "metadata": {
    "colab": {
     "base_uri": "https://localhost:8080/"
    },
    "id": "8-hi5WzQk-RY",
    "outputId": "020f4ae6-1632-4a3f-af76-45fa8eef7b00"
   },
   "outputs": [
    {
     "name": "stdout",
     "output_type": "stream",
     "text": [
      "Number of training examples: 107138\n",
      "Number of validation examples: 6302\n",
      "Number of testing examples: 12605\n"
     ]
    }
   ],
   "source": [
    "print(f\"Number of training examples: {len(train_data)}\")\n",
    "print(f\"Number of validation examples: {len(valid_data)}\")\n",
    "print(f\"Number of testing examples: {len(test_data)}\")"
   ]
  },
  {
   "cell_type": "markdown",
   "metadata": {
    "id": "UBxtOVpxk-RZ"
   },
   "source": [
    "Subset method to check an example at a given index:"
   ]
  },
  {
   "cell_type": "code",
   "execution_count": 11,
   "metadata": {
    "colab": {
     "base_uri": "https://localhost:8080/"
    },
    "id": "DWGHia8qk-RZ",
    "outputId": "d3bb57e4-cf7f-4fa3-f8ff-1ace9e27f249"
   },
   "outputs": [
    {
     "name": "stdout",
     "output_type": "stream",
     "text": [
      "('radiography', 'R EY2 D IY0 AA1 G R AH0 F IY0')\n"
     ]
    }
   ],
   "source": [
    "print(train_data.to_string(1))"
   ]
  },
  {
   "cell_type": "code",
   "execution_count": 12,
   "metadata": {
    "colab": {
     "base_uri": "https://localhost:8080/"
    },
    "id": "YGE1MA9zk-Ra",
    "outputId": "9fc31f39-a026-4a53-daf7-5511d87a74bd"
   },
   "outputs": [
    {
     "name": "stdout",
     "output_type": "stream",
     "text": [
      "Unique tokens in source (characters) vocabulary: 33\n",
      "Unique tokens in target (phonemes) vocabulary: 73\n"
     ]
    }
   ],
   "source": [
    "print(f\"Unique tokens in source (characters) vocabulary: {len(dataset.source_field)}\")\n",
    "print(f\"Unique tokens in target (phonemes) vocabulary: {len(dataset.target_field)}\")"
   ]
  },
  {
   "cell_type": "markdown",
   "metadata": {
    "id": "N_Fyib9vk-Ra"
   },
   "source": [
    "## 3. Model definition"
   ]
  },
  {
   "cell_type": "code",
   "execution_count": 13,
   "metadata": {
    "id": "twVXvvB2k-Rb"
   },
   "outputs": [],
   "source": [
    "class Encoder(nn.Module):\n",
    "    def __init__(self, input_dim, emb_dim, hid_dim, n_layers, dropout):\n",
    "        super().__init__()\n",
    "        \n",
    "        self.hid_dim = hid_dim\n",
    "        self.n_layers = n_layers\n",
    "        \n",
    "        self.embedding = nn.Embedding(input_dim, emb_dim)\n",
    "        \n",
    "        self.rnn = nn.LSTM(emb_dim, hid_dim, n_layers, dropout = dropout)\n",
    "        \n",
    "        self.dropout = nn.Dropout(dropout)\n",
    "        \n",
    "    def forward(self, src):\n",
    "        \n",
    "        #src = [src len, batch size]\n",
    "        \n",
    "        embedded = self.dropout(self.embedding(src))\n",
    "        \n",
    "        #embedded = [src len, batch size, emb dim]\n",
    "        \n",
    "        outputs, (hidden, cell) = self.rnn(embedded)\n",
    "        \n",
    "        #outputs = [src len, batch size, hid dim * n directions]\n",
    "        #hidden = [n layers * n directions, batch size, hid dim]\n",
    "        #cell = [n layers * n directions, batch size, hid dim]\n",
    "        \n",
    "        #outputs are always from the top hidden layer\n",
    "        \n",
    "        return hidden, cell"
   ]
  },
  {
   "cell_type": "code",
   "execution_count": 14,
   "metadata": {
    "id": "uJZ9khcwk-Rb"
   },
   "outputs": [],
   "source": [
    "class Decoder(nn.Module):\n",
    "    def __init__(self, output_dim, emb_dim, hid_dim, n_layers, dropout):\n",
    "        super().__init__()\n",
    "        \n",
    "        self.output_dim = output_dim\n",
    "        self.hid_dim = hid_dim\n",
    "        self.n_layers = n_layers\n",
    "        \n",
    "        self.embedding = nn.Embedding(output_dim, emb_dim)\n",
    "        \n",
    "        self.rnn = nn.LSTM(emb_dim, hid_dim, n_layers, dropout = dropout)\n",
    "        \n",
    "        self.fc_out = nn.Linear(hid_dim, output_dim)\n",
    "        \n",
    "        self.dropout = nn.Dropout(dropout)\n",
    "        \n",
    "    def forward(self, input, hidden, cell):\n",
    "        \n",
    "        #input = [batch size]\n",
    "        #hidden = [n layers * n directions, batch size, hid dim]\n",
    "        #cell = [n layers * n directions, batch size, hid dim]\n",
    "        \n",
    "        #n directions in the decoder will both always be 1, therefore:\n",
    "        #hidden = [n layers, batch size, hid dim]\n",
    "        #context = [n layers, batch size, hid dim]\n",
    "        \n",
    "        input = input.unsqueeze(0)\n",
    "        \n",
    "        #input = [1, batch size]\n",
    "        \n",
    "        embedded = self.dropout(self.embedding(input))\n",
    "        \n",
    "        #embedded = [1, batch size, emb dim]\n",
    "                \n",
    "        output, (hidden, cell) = self.rnn(embedded, (hidden, cell))\n",
    "        \n",
    "        #output = [seq len, batch size, hid dim * n directions]\n",
    "        #hidden = [n layers * n directions, batch size, hid dim]\n",
    "        #cell = [n layers * n directions, batch size, hid dim]\n",
    "        \n",
    "        #seq len and n directions will always be 1 in the decoder, therefore:\n",
    "        #output = [1, batch size, hid dim]\n",
    "        #hidden = [n layers, batch size, hid dim]\n",
    "        #cell = [n layers, batch size, hid dim]\n",
    "        \n",
    "        prediction = self.fc_out(output.squeeze(0))\n",
    "        \n",
    "        #prediction = [batch size, output dim]\n",
    "        \n",
    "        return prediction, hidden, cell\n"
   ]
  },
  {
   "cell_type": "code",
   "execution_count": 15,
   "metadata": {
    "id": "nGZol0Vmk-Rb"
   },
   "outputs": [],
   "source": [
    "class Seq2Seq(nn.Module):\n",
    "    def __init__(self, encoder, decoder, device):\n",
    "        super().__init__()\n",
    "        \n",
    "        self.encoder = encoder\n",
    "        self.decoder = decoder\n",
    "        self.device = device\n",
    "        \n",
    "        assert encoder.hid_dim == decoder.hid_dim, \\\n",
    "            \"Hidden dimensions of encoder and decoder must be equal!\"\n",
    "        assert encoder.n_layers == decoder.n_layers, \\\n",
    "            \"Encoder and decoder must have equal number of layers!\"\n",
    "        \n",
    "    def forward(self, src, trg, teacher_forcing_ratio = 0.5):\n",
    "        \n",
    "        #src = [src len, batch size]\n",
    "        #trg = [trg len, batch size]\n",
    "        #teacher_forcing_ratio is probability to use teacher forcing\n",
    "        #e.g. if teacher_forcing_ratio is 0.75 we use ground-truth inputs 75% of the time\n",
    "        \n",
    "        batch_size = trg.shape[1]\n",
    "        trg_len = trg.shape[0]\n",
    "        trg_vocab_size = self.decoder.output_dim\n",
    "        \n",
    "        #tensor to store decoder outputs\n",
    "        outputs = torch.zeros(trg_len, batch_size, trg_vocab_size).to(self.device)\n",
    "        \n",
    "        #last hidden state of the encoder is used as the initial hidden state of the decoder\n",
    "        hidden, cell = self.encoder(src)\n",
    "        \n",
    "        #first input to the decoder is the <sos> tokens\n",
    "        input = trg[0,:]\n",
    "        \n",
    "        for t in range(1, trg_len):\n",
    "            \n",
    "            #insert input token embedding, previous hidden and previous cell states\n",
    "            #receive output tensor (predictions) and new hidden and cell states\n",
    "            output, hidden, cell = self.decoder(input, hidden, cell)\n",
    "            \n",
    "            #place predictions in a tensor holding predictions for each token\n",
    "            outputs[t] = output\n",
    "            \n",
    "            #decide if we are going to use teacher forcing or not\n",
    "            teacher_force = random.random() < teacher_forcing_ratio\n",
    "            \n",
    "            #get the highest predicted token from our predictions\n",
    "            top1 = output.argmax(1) \n",
    "            \n",
    "            #if teacher forcing, use actual next token as next input\n",
    "            #if not, use predicted token\n",
    "            input = trg[t] if teacher_force else top1\n",
    "        \n",
    "        return outputs"
   ]
  },
  {
   "cell_type": "markdown",
   "metadata": {
    "id": "7vouOHhck-Rc"
   },
   "source": [
    "## 4. Hyperparameters and training parameters"
   ]
  },
  {
   "cell_type": "code",
   "execution_count": 16,
   "metadata": {
    "id": "VdTIck3Yk-Rd"
   },
   "outputs": [],
   "source": [
    "INPUT_DIM = len(dataset.source_field)\n",
    "OUTPUT_DIM = len(dataset.target_field)\n",
    "ENC_EMB_DIM = 256\n",
    "DEC_EMB_DIM = 256\n",
    "HID_DIM = 512\n",
    "N_LAYERS = 2\n",
    "ENC_DROPOUT = 0.5\n",
    "DEC_DROPOUT = 0.5\n",
    "\n",
    "enc = Encoder(INPUT_DIM, ENC_EMB_DIM, HID_DIM, N_LAYERS, ENC_DROPOUT)\n",
    "dec = Decoder(OUTPUT_DIM, DEC_EMB_DIM, HID_DIM, N_LAYERS, DEC_DROPOUT)\n",
    "\n",
    "model = Seq2Seq(enc, dec, device).to(device)"
   ]
  },
  {
   "cell_type": "code",
   "execution_count": 17,
   "metadata": {
    "colab": {
     "base_uri": "https://localhost:8080/"
    },
    "id": "jIPwDPcpk-Rd",
    "outputId": "58642a5b-0f61-4035-858a-b440cef1bbd2"
   },
   "outputs": [
    {
     "data": {
      "text/plain": [
       "Seq2Seq(\n",
       "  (encoder): Encoder(\n",
       "    (embedding): Embedding(33, 256)\n",
       "    (rnn): LSTM(256, 512, num_layers=2, dropout=0.5)\n",
       "    (dropout): Dropout(p=0.5, inplace=False)\n",
       "  )\n",
       "  (decoder): Decoder(\n",
       "    (embedding): Embedding(73, 256)\n",
       "    (rnn): LSTM(256, 512, num_layers=2, dropout=0.5)\n",
       "    (fc_out): Linear(in_features=512, out_features=73, bias=True)\n",
       "    (dropout): Dropout(p=0.5, inplace=False)\n",
       "  )\n",
       ")"
      ]
     },
     "execution_count": 17,
     "metadata": {
      "tags": []
     },
     "output_type": "execute_result"
    }
   ],
   "source": [
    "def init_weights(m):\n",
    "    for name, param in m.named_parameters():\n",
    "        nn.init.uniform_(param.data, -0.08, 0.08)\n",
    "        \n",
    "model.apply(init_weights)"
   ]
  },
  {
   "cell_type": "code",
   "execution_count": 18,
   "metadata": {
    "colab": {
     "base_uri": "https://localhost:8080/"
    },
    "id": "3qFRLvRnk-Rd",
    "outputId": "b1f346bc-91fa-44bd-c93b-4d59c0de3d99"
   },
   "outputs": [
    {
     "name": "stdout",
     "output_type": "stream",
     "text": [
      "The model has 7,421,001 trainable parameters\n"
     ]
    }
   ],
   "source": [
    "def count_parameters(model):\n",
    "    return sum(p.numel() for p in model.parameters() if p.requires_grad)\n",
    "\n",
    "print(f'The model has {count_parameters(model):,} trainable parameters')"
   ]
  },
  {
   "cell_type": "code",
   "execution_count": 19,
   "metadata": {
    "id": "gYwSbu5jk-Re"
   },
   "outputs": [],
   "source": [
    "optimizer = optim.Adam(model.parameters())"
   ]
  },
  {
   "cell_type": "code",
   "execution_count": 20,
   "metadata": {
    "id": "EFMzS7__k-Re"
   },
   "outputs": [],
   "source": [
    "PAD_IDX = dataset.source_field.string2int[\"<PAD>\"]\n",
    "\n",
    "criterion = nn.CrossEntropyLoss(ignore_index = PAD_IDX)"
   ]
  },
  {
   "cell_type": "markdown",
   "metadata": {
    "id": "Wj1vew4vk-Re"
   },
   "source": [
    "## 5. Training loop"
   ]
  },
  {
   "cell_type": "code",
   "execution_count": 21,
   "metadata": {
    "id": "V-P-v_lkk-Re"
   },
   "outputs": [],
   "source": [
    "def train(model, iterator, optimizer, criterion, clip):\n",
    "    \n",
    "    model.train()\n",
    "    \n",
    "    epoch_loss = 0\n",
    "    \n",
    "    for i, batch in enumerate(iterator):\n",
    "        \n",
    "        src, trg = batch\n",
    "\n",
    "        src = src.to(device)\n",
    "        trg = trg.to(device)\n",
    "        \n",
    "        optimizer.zero_grad()\n",
    "        \n",
    "        output = model(src.long(), trg.long())\n",
    "        \n",
    "        #trg = [trg len, batch size]\n",
    "        #output = [trg len, batch size, output dim]\n",
    "        \n",
    "        output_dim = output.shape[-1]\n",
    "        \n",
    "        output = output[1:].view(-1, output_dim)\n",
    "        trg = trg[1:].view(-1)\n",
    "        \n",
    "        #trg = [(trg len - 1) * batch size]\n",
    "        #output = [(trg len - 1) * batch size, output dim]\n",
    "        \n",
    "        loss = criterion(output, trg)\n",
    "        \n",
    "        loss.backward()\n",
    "        \n",
    "        torch.nn.utils.clip_grad_norm_(model.parameters(), clip)\n",
    "        \n",
    "        optimizer.step()\n",
    "        \n",
    "        epoch_loss += loss.item()\n",
    "        \n",
    "    return epoch_loss / len(iterator)"
   ]
  },
  {
   "cell_type": "markdown",
   "metadata": {
    "id": "a4WvTLizTine"
   },
   "source": [
    "### Evaluation\n",
    "\n",
    "We use the following common evaluation metrics for G2P task, taken from the paper \"Transformer based Grapheme-to-Phoneme Conversion\" by Yolchuyeva, Németh, Gyires-Tóth, Interspeech 2019:\n",
    "\n",
    "- Phoneme Error Rate (PER): Levenshtein distance between the predicted phoneme sequence and the target sequence, divided by  the number of phonemes in the target pronunciation; this is done with all target-prediction pairs, and an average is then computed.\n",
    "- Word Error Rate (WER): percentage of words in which the  predicted phoneme sequence does not exactly match the target pronunciation; the number of word errors is divided by the number of test samples.\n",
    "\n",
    "We use a flag `test` to differenciate between evaluation and test mode. In test mode, each test example is fed into a softmax to have a probability distribution over the target vocabulary. We retrieve the most likely candidate using `argmax`. "
   ]
  },
  {
   "cell_type": "code",
   "execution_count": 22,
   "metadata": {
    "id": "2W-X-cOSoJ5s"
   },
   "outputs": [],
   "source": [
    "def evaluate(model, iterator, criterion, test):\n",
    "    \n",
    "    model.eval()\n",
    "    softmax = torch.nn.Softmax(dim=0)\n",
    "    \n",
    "    epoch_loss = 0\n",
    "    wer_count = 0 # count to calculate word error rate\n",
    "    levenshtein_scores = [] # list to calculate phoneme error rate\n",
    "    predictions = []\n",
    "    \n",
    "    with torch.no_grad():\n",
    "            \n",
    "        for batch in iterator:\n",
    "\n",
    "            src, trg = batch\n",
    "            src = src.to(device)\n",
    "            trg = trg.to(device)\n",
    "\n",
    "            output = model(src, trg, 0) #turn off teacher forcing\n",
    "\n",
    "            #trg = [trg len, batch size]\n",
    "            #output = [trg len, batch size, output dim]\n",
    "\n",
    "            # reshape data for evaluation of each test example\n",
    "            trg_T = torch.transpose(trg, 0, 1) \n",
    "            output_T = torch.transpose(output, 0, 1)\n",
    "\n",
    "            for target_seq, output_seq in zip(trg_T, output_T):\n",
    "                \n",
    "                #target_seq = [trg len]\n",
    "                #output_seq = [trg len, output dim]\n",
    "\n",
    "                # flags to signal when both target and output sequences are over\n",
    "                # i.e. ignore padding\n",
    "                trg_stopped = False \n",
    "                output_stopped = False\n",
    "\n",
    "                decoded_target_seq  = []\n",
    "                decoded_output_seq = []                \n",
    "\n",
    "                for y, pred in zip(target_seq[1:], output_seq[1:]): # ignore <SOS>\n",
    "\n",
    "                    #y = single value\n",
    "                    #pred = [output dim]\n",
    "\n",
    "                    pred = softmax(pred)\n",
    "                    y_hat = torch.argmax(pred)\n",
    "\n",
    "                    if not output_stopped and target_vocab[y_hat.item()] == '<EOS>':\n",
    "                        output_stopped = True\n",
    "                    if not trg_stopped and target_vocab[y.item()] == '<EOS>':\n",
    "                        trg_stopped = True \n",
    "                    if output_stopped and trg_stopped:\n",
    "                        break\n",
    "\n",
    "                    y = target_vocab[y.item()]\n",
    "                    y_hat = target_vocab[y_hat.item()]\n",
    "\n",
    "                    decoded_target_seq.append(y)\n",
    "                    decoded_output_seq.append(y_hat)\n",
    "\n",
    "                predictions.append(' '.join(decoded_target_seq) + '\\t' + \n",
    "                                   ' '.join(decoded_output_seq))\n",
    "\n",
    "                # WER\n",
    "                if decoded_target_seq != decoded_output_seq:\n",
    "                    wer_count += 1\n",
    "\n",
    "                # PER\n",
    "                seq_len = target_seq[1:].tolist().index(2) # 2: <EOS>\n",
    "                levenshtein_scores.append(\n",
    "                    textdistance.levenshtein.distance(\n",
    "                        decoded_target_seq, decoded_output_seq) / seq_len)\n",
    "                \n",
    "            output_dim = output.shape[-1]\n",
    "            output = output[1:].view(-1, output_dim)\n",
    "            trg = trg[1:].view(-1)\n",
    "\n",
    "            #trg = [(trg len - 1) * batch size]\n",
    "            #output = [(trg len - 1) * batch size, output dim]\n",
    "\n",
    "            loss = criterion(output, trg)\n",
    "\n",
    "            epoch_loss += loss.item()\n",
    "        \n",
    "    if test: # write to file for qualitative analysis\n",
    "\n",
    "        with open('predictions.tsv', 'w') as ostr:\n",
    "            for pred in predictions:\n",
    "                print(pred, file=ostr)\n",
    "\n",
    "        WER = wer_count / len(test_data)    \n",
    "        PER = sum(levenshtein_scores) / len(levenshtein_scores)\n",
    "\n",
    "        return (epoch_loss / len(iterator)), WER, PER\n",
    "\n",
    "    return epoch_loss / len(iterator)"
   ]
  },
  {
   "cell_type": "code",
   "execution_count": 23,
   "metadata": {
    "id": "b3DeoSQvk-Rf"
   },
   "outputs": [],
   "source": [
    "def epoch_time(start_time, end_time):\n",
    "    elapsed_time = end_time - start_time\n",
    "    elapsed_mins = int(elapsed_time / 60)\n",
    "    elapsed_secs = int(elapsed_time - (elapsed_mins * 60))\n",
    "    return elapsed_mins, elapsed_secs"
   ]
  },
  {
   "cell_type": "code",
   "execution_count": 24,
   "metadata": {
    "colab": {
     "base_uri": "https://localhost:8080/"
    },
    "id": "EQyUDqdXk-Rg",
    "outputId": "58a647ec-d3c1-4210-d008-a080e4db0f03",
    "scrolled": true
   },
   "outputs": [
    {
     "name": "stdout",
     "output_type": "stream",
     "text": [
      "Epoch: 01 | Time: 1m 7s\n",
      "\tTrain Loss: 2.008 | Train PPL:   7.452\n",
      "\t Val. Loss: 0.995 |  Val. PPL:   2.704\n",
      "Epoch: 02 | Time: 1m 7s\n",
      "\tTrain Loss: 0.644 | Train PPL:   1.904\n",
      "\t Val. Loss: 0.612 |  Val. PPL:   1.844\n",
      "Epoch: 03 | Time: 1m 8s\n",
      "\tTrain Loss: 0.451 | Train PPL:   1.570\n",
      "\t Val. Loss: 0.515 |  Val. PPL:   1.674\n",
      "Epoch: 04 | Time: 1m 6s\n",
      "\tTrain Loss: 0.375 | Train PPL:   1.455\n",
      "\t Val. Loss: 0.467 |  Val. PPL:   1.596\n",
      "Epoch: 05 | Time: 1m 7s\n",
      "\tTrain Loss: 0.327 | Train PPL:   1.387\n",
      "\t Val. Loss: 0.446 |  Val. PPL:   1.561\n",
      "Epoch: 06 | Time: 1m 7s\n",
      "\tTrain Loss: 0.295 | Train PPL:   1.343\n",
      "\t Val. Loss: 0.424 |  Val. PPL:   1.528\n",
      "Epoch: 07 | Time: 1m 6s\n",
      "\tTrain Loss: 0.265 | Train PPL:   1.303\n",
      "\t Val. Loss: 0.416 |  Val. PPL:   1.516\n",
      "Epoch: 08 | Time: 1m 8s\n",
      "\tTrain Loss: 0.245 | Train PPL:   1.277\n",
      "\t Val. Loss: 0.415 |  Val. PPL:   1.515\n",
      "Epoch: 09 | Time: 1m 7s\n",
      "\tTrain Loss: 0.225 | Train PPL:   1.252\n",
      "\t Val. Loss: 0.399 |  Val. PPL:   1.490\n",
      "Epoch: 10 | Time: 1m 6s\n",
      "\tTrain Loss: 0.208 | Train PPL:   1.231\n",
      "\t Val. Loss: 0.402 |  Val. PPL:   1.496\n",
      "Epoch: 11 | Time: 1m 8s\n",
      "\tTrain Loss: 0.193 | Train PPL:   1.213\n",
      "\t Val. Loss: 0.405 |  Val. PPL:   1.500\n",
      "Epoch: 12 | Time: 1m 7s\n",
      "\tTrain Loss: 0.183 | Train PPL:   1.201\n",
      "\t Val. Loss: 0.410 |  Val. PPL:   1.507\n",
      "Epoch: 13 | Time: 1m 7s\n",
      "\tTrain Loss: 0.169 | Train PPL:   1.185\n",
      "\t Val. Loss: 0.415 |  Val. PPL:   1.514\n",
      "Epoch: 14 | Time: 1m 8s\n",
      "\tTrain Loss: 0.162 | Train PPL:   1.176\n",
      "\t Val. Loss: 0.421 |  Val. PPL:   1.523\n",
      "Epoch: 15 | Time: 1m 8s\n",
      "\tTrain Loss: 0.153 | Train PPL:   1.166\n",
      "\t Val. Loss: 0.413 |  Val. PPL:   1.511\n",
      "Epoch: 16 | Time: 1m 6s\n",
      "\tTrain Loss: 0.147 | Train PPL:   1.158\n",
      "\t Val. Loss: 0.434 |  Val. PPL:   1.543\n",
      "Epoch: 17 | Time: 1m 7s\n",
      "\tTrain Loss: 0.140 | Train PPL:   1.151\n",
      "\t Val. Loss: 0.431 |  Val. PPL:   1.538\n",
      "Epoch: 18 | Time: 1m 7s\n",
      "\tTrain Loss: 0.132 | Train PPL:   1.141\n",
      "\t Val. Loss: 0.443 |  Val. PPL:   1.557\n",
      "Epoch: 19 | Time: 1m 7s\n",
      "\tTrain Loss: 0.127 | Train PPL:   1.135\n",
      "\t Val. Loss: 0.445 |  Val. PPL:   1.561\n",
      "Epoch: 20 | Time: 1m 7s\n",
      "\tTrain Loss: 0.124 | Train PPL:   1.132\n",
      "\t Val. Loss: 0.444 |  Val. PPL:   1.559\n"
     ]
    }
   ],
   "source": [
    "N_EPOCHS = 20\n",
    "CLIP = 1\n",
    "\n",
    "best_valid_loss = float('inf')\n",
    "\n",
    "train_losses = []\n",
    "valid_losses = []\n",
    "\n",
    "for epoch in range(N_EPOCHS):\n",
    "    \n",
    "    start_time = time.time()\n",
    "    \n",
    "    train_loss = train(model, train_iterator, optimizer, criterion, CLIP)\n",
    "    valid_loss = evaluate(model, valid_iterator, criterion, test=False)\n",
    "    train_losses.append(train_loss)\n",
    "    valid_losses.append(valid_loss)\n",
    "\n",
    "    end_time = time.time()\n",
    "    \n",
    "    epoch_mins, epoch_secs = epoch_time(start_time, end_time)\n",
    "    \n",
    "    if valid_loss < best_valid_loss: # save the best model\n",
    "        best_valid_loss = valid_loss\n",
    "        torch.save(model.state_dict(), 'g2p-model.pt')\n",
    "    \n",
    "    print(f'Epoch: {epoch+1:02} | Time: {epoch_mins}m {epoch_secs}s')\n",
    "    print(f'\\tTrain Loss: {train_loss:.3f} | Train PPL: {math.exp(train_loss):7.3f}')\n",
    "    print(f'\\t Val. Loss: {valid_loss:.3f} |  Val. PPL: {math.exp(valid_loss):7.3f}')"
   ]
  },
  {
   "cell_type": "markdown",
   "metadata": {
    "id": "4yqhmP35WxUA"
   },
   "source": [
    "Plotting train and validation losses over epochs."
   ]
  },
  {
   "cell_type": "code",
   "execution_count": 25,
   "metadata": {
    "colab": {
     "base_uri": "https://localhost:8080/",
     "height": 279
    },
    "id": "4LdgbO8nNegT",
    "outputId": "eb94fbb7-1ac0-4542-cf83-5e5a8ab58ccf"
   },
   "outputs": [
    {
     "data": {
      "image/png": "[encoded data removed]",
      "text/plain": [
       "<Figure size 432x288 with 1 Axes>"
      ]
     },
     "metadata": {
      "needs_background": "light",
      "tags": []
     },
     "output_type": "display_data"
    }
   ],
   "source": [
    "plt.plot(train_losses, 'r', label=\"train\")\n",
    "plt.plot(valid_losses, 'b', label=\"validation\")\n",
    "plt.xlabel(\"epochs\")\n",
    "plt.ylabel(\"loss\")\n",
    "plt.legend(loc=\"upper right\")\n",
    " \n",
    "plt.show()"
   ]
  },
  {
   "cell_type": "markdown",
   "metadata": {
    "id": "dmEijhZNk-Rg"
   },
   "source": [
    "## 6. Evaluate the model on test data"
   ]
  },
  {
   "cell_type": "code",
   "execution_count": 26,
   "metadata": {
    "colab": {
     "base_uri": "https://localhost:8080/"
    },
    "id": "WKUQsjQfk-Rg",
    "outputId": "44f73196-34c6-449f-8637-e3b547fdc59e"
   },
   "outputs": [
    {
     "data": {
      "text/plain": [
       "<All keys matched successfully>"
      ]
     },
     "execution_count": 26,
     "metadata": {
      "tags": []
     },
     "output_type": "execute_result"
    }
   ],
   "source": [
    "model.load_state_dict(torch.load('g2p-model.pt'))"
   ]
  },
  {
   "cell_type": "code",
   "execution_count": 27,
   "metadata": {
    "colab": {
     "base_uri": "https://localhost:8080/"
    },
    "id": "nRJ-YzAgk-Rh",
    "outputId": "986091cf-c23b-4a10-b7aa-f494dae8bd78"
   },
   "outputs": [
    {
     "name": "stdout",
     "output_type": "stream",
     "text": [
      "| Word Error Rate: 0.374 |\n",
      "| Phoneme Error Rate: 0.109 |\n",
      "| Test Loss: 0.420 | Test PPL:   1.521 |\n"
     ]
    }
   ],
   "source": [
    "test_loss, WER, PER = evaluate(model, test_iterator, criterion, test=True)\n",
    "print(f'| Word Error Rate: {WER:.3f} |')\n",
    "print(f'| Phoneme Error Rate: {PER:.3f} |')\n",
    "print(f'| Test Loss: {test_loss:.3f} | Test PPL: {math.exp(test_loss):7.3f} |')"
   ]
  }
 ],
 "metadata": {
  "accelerator": "GPU",
  "colab": {
   "name": "grapheme2phoneme.ipynb",
   "provenance": []
  },
  "kernelspec": {
   "display_name": "Python 3",
   "language": "python",
   "name": "python3"
  },
  "language_info": {
   "codemirror_mode": {
    "name": "ipython",
    "version": 3
   },
   "file_extension": ".py",
   "mimetype": "text/x-python",
   "name": "python",
   "nbconvert_exporter": "python",
   "pygments_lexer": "ipython3",
   "version": "3.8.3"
  }
 },
 "nbformat": 4,
 "nbformat_minor": 1
}
